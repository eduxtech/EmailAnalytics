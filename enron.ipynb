{
 "cells": [
  {
   "cell_type": "code",
   "execution_count": 1,
   "metadata": {
    "_cell_guid": "b1076dfc-b9ad-4769-8c92-a6c4dae69d19",
    "_uuid": "8f2839f25d086af736a60e9eeb907d3b93b6e0e5"
   },
   "outputs": [],
   "source": [
    "import os, sys, email,re\n",
    "import numpy as np \n",
    "import pandas as pd\n",
    "import matplotlib.pyplot as plt\n",
    "%matplotlib inline\n",
    "import wordcloud\n",
    "import networkx as nx\n",
    "from nltk.tokenize.regexp import RegexpTokenizer\n",
    "from subprocess import check_output\n",
    "from sklearn.feature_extraction.text import TfidfVectorizer,CountVectorizer\n",
    "from sklearn.cluster import KMeans\n",
    "from sklearn.decomposition import PCA\n",
    "from sklearn.discriminant_analysis import LinearDiscriminantAnalysis as LDA\n",
    "from sklearn.decomposition import LatentDirichletAllocation\n",
    "import gensim\n",
    "from gensim import corpora\n",
    "from nltk.corpus import stopwords \n",
    "from nltk.stem.wordnet import WordNetLemmatizer\n",
    "import string\n",
    "from nltk.stem.porter import PorterStemmer"
   ]
  },
  {
   "cell_type": "code",
   "execution_count": 2,
   "metadata": {
    "_cell_guid": "79c7e3d0-c299-4dcb-8224-4455121ee9b0",
    "_uuid": "d629ff2d2480ee46fbb7e2d37f6b5fab8052498a"
   },
   "outputs": [
    {
     "name": "stdout",
     "output_type": "stream",
     "text": [
      "(517401, 2)\n"
     ]
    },
    {
     "data": {
      "text/html": [
       "<div>\n",
       "<style scoped>\n",
       "    .dataframe tbody tr th:only-of-type {\n",
       "        vertical-align: middle;\n",
       "    }\n",
       "\n",
       "    .dataframe tbody tr th {\n",
       "        vertical-align: top;\n",
       "    }\n",
       "\n",
       "    .dataframe thead th {\n",
       "        text-align: right;\n",
       "    }\n",
       "</style>\n",
       "<table border=\"1\" class=\"dataframe\">\n",
       "  <thead>\n",
       "    <tr style=\"text-align: right;\">\n",
       "      <th></th>\n",
       "      <th>file</th>\n",
       "      <th>message</th>\n",
       "    </tr>\n",
       "  </thead>\n",
       "  <tbody>\n",
       "    <tr>\n",
       "      <th>0</th>\n",
       "      <td>allen-p/_sent_mail/1.</td>\n",
       "      <td>Message-ID: &lt;18782981.1075855378110.JavaMail.e...</td>\n",
       "    </tr>\n",
       "    <tr>\n",
       "      <th>1</th>\n",
       "      <td>allen-p/_sent_mail/10.</td>\n",
       "      <td>Message-ID: &lt;15464986.1075855378456.JavaMail.e...</td>\n",
       "    </tr>\n",
       "    <tr>\n",
       "      <th>2</th>\n",
       "      <td>allen-p/_sent_mail/100.</td>\n",
       "      <td>Message-ID: &lt;24216240.1075855687451.JavaMail.e...</td>\n",
       "    </tr>\n",
       "    <tr>\n",
       "      <th>3</th>\n",
       "      <td>allen-p/_sent_mail/1000.</td>\n",
       "      <td>Message-ID: &lt;13505866.1075863688222.JavaMail.e...</td>\n",
       "    </tr>\n",
       "    <tr>\n",
       "      <th>4</th>\n",
       "      <td>allen-p/_sent_mail/1001.</td>\n",
       "      <td>Message-ID: &lt;30922949.1075863688243.JavaMail.e...</td>\n",
       "    </tr>\n",
       "  </tbody>\n",
       "</table>\n",
       "</div>"
      ],
      "text/plain": [
       "                       file                                            message\n",
       "0     allen-p/_sent_mail/1.  Message-ID: <18782981.1075855378110.JavaMail.e...\n",
       "1    allen-p/_sent_mail/10.  Message-ID: <15464986.1075855378456.JavaMail.e...\n",
       "2   allen-p/_sent_mail/100.  Message-ID: <24216240.1075855687451.JavaMail.e...\n",
       "3  allen-p/_sent_mail/1000.  Message-ID: <13505866.1075863688222.JavaMail.e...\n",
       "4  allen-p/_sent_mail/1001.  Message-ID: <30922949.1075863688243.JavaMail.e..."
      ]
     },
     "execution_count": 2,
     "metadata": {},
     "output_type": "execute_result"
    }
   ],
   "source": [
    "emails_df = pd.read_csv('D:\\emails.csv')\n",
    "print(emails_df.shape)\n",
    "emails_df.head()"
   ]
  },
  {
   "cell_type": "code",
   "execution_count": 3,
   "metadata": {},
   "outputs": [],
   "source": [
    "def get_text_from_email(msg):\n",
    "    parts = []\n",
    "    for part in msg.walk():\n",
    "        if part.get_content_type() == 'text/plain':\n",
    "            parts.append( part.get_payload() )\n",
    "    return ''.join(parts)\n",
    "\n",
    "def split_email_addresses(line):\n",
    "    if line:\n",
    "        addrs = line.split(',')\n",
    "        addrs = frozenset(map(lambda x: x.strip(), addrs))\n",
    "    else:\n",
    "        addrs = None\n",
    "    return addrs"
   ]
  },
  {
   "cell_type": "code",
   "execution_count": 4,
   "metadata": {},
   "outputs": [
    {
     "data": {
      "text/html": [
       "<div>\n",
       "<style scoped>\n",
       "    .dataframe tbody tr th:only-of-type {\n",
       "        vertical-align: middle;\n",
       "    }\n",
       "\n",
       "    .dataframe tbody tr th {\n",
       "        vertical-align: top;\n",
       "    }\n",
       "\n",
       "    .dataframe thead th {\n",
       "        text-align: right;\n",
       "    }\n",
       "</style>\n",
       "<table border=\"1\" class=\"dataframe\">\n",
       "  <thead>\n",
       "    <tr style=\"text-align: right;\">\n",
       "      <th></th>\n",
       "      <th>file</th>\n",
       "      <th>Message-ID</th>\n",
       "      <th>Date</th>\n",
       "      <th>From</th>\n",
       "      <th>To</th>\n",
       "      <th>Subject</th>\n",
       "      <th>Mime-Version</th>\n",
       "      <th>Content-Type</th>\n",
       "      <th>Content-Transfer-Encoding</th>\n",
       "      <th>X-From</th>\n",
       "      <th>X-To</th>\n",
       "      <th>X-cc</th>\n",
       "      <th>X-bcc</th>\n",
       "      <th>X-Folder</th>\n",
       "      <th>X-Origin</th>\n",
       "      <th>X-FileName</th>\n",
       "      <th>content</th>\n",
       "      <th>user</th>\n",
       "    </tr>\n",
       "  </thead>\n",
       "  <tbody>\n",
       "    <tr>\n",
       "      <th>0</th>\n",
       "      <td>allen-p/_sent_mail/1.</td>\n",
       "      <td>&lt;18782981.1075855378110.JavaMail.evans@thyme&gt;</td>\n",
       "      <td>Mon, 14 May 2001 16:39:00 -0700 (PDT)</td>\n",
       "      <td>(phillip.allen@enron.com)</td>\n",
       "      <td>(tim.belden@enron.com)</td>\n",
       "      <td></td>\n",
       "      <td>1.0</td>\n",
       "      <td>text/plain; charset=us-ascii</td>\n",
       "      <td>7bit</td>\n",
       "      <td>Phillip K Allen</td>\n",
       "      <td>Tim Belden &lt;Tim Belden/Enron@EnronXGate&gt;</td>\n",
       "      <td></td>\n",
       "      <td></td>\n",
       "      <td>\\Phillip_Allen_Jan2002_1\\Allen, Phillip K.\\'Se...</td>\n",
       "      <td>Allen-P</td>\n",
       "      <td>pallen (Non-Privileged).pst</td>\n",
       "      <td>Here is our forecast\\n\\n</td>\n",
       "      <td>allen-p</td>\n",
       "    </tr>\n",
       "    <tr>\n",
       "      <th>1</th>\n",
       "      <td>allen-p/_sent_mail/10.</td>\n",
       "      <td>&lt;15464986.1075855378456.JavaMail.evans@thyme&gt;</td>\n",
       "      <td>Fri, 4 May 2001 13:51:00 -0700 (PDT)</td>\n",
       "      <td>(phillip.allen@enron.com)</td>\n",
       "      <td>(john.lavorato@enron.com)</td>\n",
       "      <td>Re:</td>\n",
       "      <td>1.0</td>\n",
       "      <td>text/plain; charset=us-ascii</td>\n",
       "      <td>7bit</td>\n",
       "      <td>Phillip K Allen</td>\n",
       "      <td>John J Lavorato &lt;John J Lavorato/ENRON@enronXg...</td>\n",
       "      <td></td>\n",
       "      <td></td>\n",
       "      <td>\\Phillip_Allen_Jan2002_1\\Allen, Phillip K.\\'Se...</td>\n",
       "      <td>Allen-P</td>\n",
       "      <td>pallen (Non-Privileged).pst</td>\n",
       "      <td>Traveling to have a business meeting takes the...</td>\n",
       "      <td>allen-p</td>\n",
       "    </tr>\n",
       "    <tr>\n",
       "      <th>2</th>\n",
       "      <td>allen-p/_sent_mail/100.</td>\n",
       "      <td>&lt;24216240.1075855687451.JavaMail.evans@thyme&gt;</td>\n",
       "      <td>Wed, 18 Oct 2000 03:00:00 -0700 (PDT)</td>\n",
       "      <td>(phillip.allen@enron.com)</td>\n",
       "      <td>(leah.arsdall@enron.com)</td>\n",
       "      <td>Re: test</td>\n",
       "      <td>1.0</td>\n",
       "      <td>text/plain; charset=us-ascii</td>\n",
       "      <td>7bit</td>\n",
       "      <td>Phillip K Allen</td>\n",
       "      <td>Leah Van Arsdall</td>\n",
       "      <td></td>\n",
       "      <td></td>\n",
       "      <td>\\Phillip_Allen_Dec2000\\Notes Folders\\'sent mail</td>\n",
       "      <td>Allen-P</td>\n",
       "      <td>pallen.nsf</td>\n",
       "      <td>test successful.  way to go!!!</td>\n",
       "      <td>allen-p</td>\n",
       "    </tr>\n",
       "    <tr>\n",
       "      <th>3</th>\n",
       "      <td>allen-p/_sent_mail/1000.</td>\n",
       "      <td>&lt;13505866.1075863688222.JavaMail.evans@thyme&gt;</td>\n",
       "      <td>Mon, 23 Oct 2000 06:13:00 -0700 (PDT)</td>\n",
       "      <td>(phillip.allen@enron.com)</td>\n",
       "      <td>(randall.gay@enron.com)</td>\n",
       "      <td></td>\n",
       "      <td>1.0</td>\n",
       "      <td>text/plain; charset=us-ascii</td>\n",
       "      <td>7bit</td>\n",
       "      <td>Phillip K Allen</td>\n",
       "      <td>Randall L Gay</td>\n",
       "      <td></td>\n",
       "      <td></td>\n",
       "      <td>\\Phillip_Allen_Dec2000\\Notes Folders\\'sent mail</td>\n",
       "      <td>Allen-P</td>\n",
       "      <td>pallen.nsf</td>\n",
       "      <td>Randy,\\n\\n Can you send me a schedule of the s...</td>\n",
       "      <td>allen-p</td>\n",
       "    </tr>\n",
       "    <tr>\n",
       "      <th>4</th>\n",
       "      <td>allen-p/_sent_mail/1001.</td>\n",
       "      <td>&lt;30922949.1075863688243.JavaMail.evans@thyme&gt;</td>\n",
       "      <td>Thu, 31 Aug 2000 05:07:00 -0700 (PDT)</td>\n",
       "      <td>(phillip.allen@enron.com)</td>\n",
       "      <td>(greg.piper@enron.com)</td>\n",
       "      <td>Re: Hello</td>\n",
       "      <td>1.0</td>\n",
       "      <td>text/plain; charset=us-ascii</td>\n",
       "      <td>7bit</td>\n",
       "      <td>Phillip K Allen</td>\n",
       "      <td>Greg Piper</td>\n",
       "      <td></td>\n",
       "      <td></td>\n",
       "      <td>\\Phillip_Allen_Dec2000\\Notes Folders\\'sent mail</td>\n",
       "      <td>Allen-P</td>\n",
       "      <td>pallen.nsf</td>\n",
       "      <td>Let's shoot for Tuesday at 11:45.</td>\n",
       "      <td>allen-p</td>\n",
       "    </tr>\n",
       "  </tbody>\n",
       "</table>\n",
       "</div>"
      ],
      "text/plain": [
       "                       file                                     Message-ID  \\\n",
       "0     allen-p/_sent_mail/1.  <18782981.1075855378110.JavaMail.evans@thyme>   \n",
       "1    allen-p/_sent_mail/10.  <15464986.1075855378456.JavaMail.evans@thyme>   \n",
       "2   allen-p/_sent_mail/100.  <24216240.1075855687451.JavaMail.evans@thyme>   \n",
       "3  allen-p/_sent_mail/1000.  <13505866.1075863688222.JavaMail.evans@thyme>   \n",
       "4  allen-p/_sent_mail/1001.  <30922949.1075863688243.JavaMail.evans@thyme>   \n",
       "\n",
       "                                    Date                       From  \\\n",
       "0  Mon, 14 May 2001 16:39:00 -0700 (PDT)  (phillip.allen@enron.com)   \n",
       "1   Fri, 4 May 2001 13:51:00 -0700 (PDT)  (phillip.allen@enron.com)   \n",
       "2  Wed, 18 Oct 2000 03:00:00 -0700 (PDT)  (phillip.allen@enron.com)   \n",
       "3  Mon, 23 Oct 2000 06:13:00 -0700 (PDT)  (phillip.allen@enron.com)   \n",
       "4  Thu, 31 Aug 2000 05:07:00 -0700 (PDT)  (phillip.allen@enron.com)   \n",
       "\n",
       "                          To    Subject Mime-Version  \\\n",
       "0     (tim.belden@enron.com)                     1.0   \n",
       "1  (john.lavorato@enron.com)        Re:          1.0   \n",
       "2   (leah.arsdall@enron.com)   Re: test          1.0   \n",
       "3    (randall.gay@enron.com)                     1.0   \n",
       "4     (greg.piper@enron.com)  Re: Hello          1.0   \n",
       "\n",
       "                   Content-Type Content-Transfer-Encoding           X-From  \\\n",
       "0  text/plain; charset=us-ascii                      7bit  Phillip K Allen   \n",
       "1  text/plain; charset=us-ascii                      7bit  Phillip K Allen   \n",
       "2  text/plain; charset=us-ascii                      7bit  Phillip K Allen   \n",
       "3  text/plain; charset=us-ascii                      7bit  Phillip K Allen   \n",
       "4  text/plain; charset=us-ascii                      7bit  Phillip K Allen   \n",
       "\n",
       "                                                X-To X-cc X-bcc  \\\n",
       "0           Tim Belden <Tim Belden/Enron@EnronXGate>              \n",
       "1  John J Lavorato <John J Lavorato/ENRON@enronXg...              \n",
       "2                                   Leah Van Arsdall              \n",
       "3                                      Randall L Gay              \n",
       "4                                         Greg Piper              \n",
       "\n",
       "                                            X-Folder X-Origin  \\\n",
       "0  \\Phillip_Allen_Jan2002_1\\Allen, Phillip K.\\'Se...  Allen-P   \n",
       "1  \\Phillip_Allen_Jan2002_1\\Allen, Phillip K.\\'Se...  Allen-P   \n",
       "2    \\Phillip_Allen_Dec2000\\Notes Folders\\'sent mail  Allen-P   \n",
       "3    \\Phillip_Allen_Dec2000\\Notes Folders\\'sent mail  Allen-P   \n",
       "4    \\Phillip_Allen_Dec2000\\Notes Folders\\'sent mail  Allen-P   \n",
       "\n",
       "                    X-FileName  \\\n",
       "0  pallen (Non-Privileged).pst   \n",
       "1  pallen (Non-Privileged).pst   \n",
       "2                   pallen.nsf   \n",
       "3                   pallen.nsf   \n",
       "4                   pallen.nsf   \n",
       "\n",
       "                                             content     user  \n",
       "0                          Here is our forecast\\n\\n   allen-p  \n",
       "1  Traveling to have a business meeting takes the...  allen-p  \n",
       "2                     test successful.  way to go!!!  allen-p  \n",
       "3  Randy,\\n\\n Can you send me a schedule of the s...  allen-p  \n",
       "4                Let's shoot for Tuesday at 11:45.    allen-p  "
      ]
     },
     "execution_count": 4,
     "metadata": {},
     "output_type": "execute_result"
    }
   ],
   "source": [
    "messages = list(map(email.message_from_string, emails_df['message']))\n",
    "emails_df.drop('message', axis=1, inplace=True)\n",
    "keys = messages[0].keys()\n",
    "for key in keys:\n",
    "    emails_df[key] = [doc[key] for doc in messages]\n",
    "emails_df['content'] = list(map(get_text_from_email, messages))\n",
    "emails_df['From'] = emails_df['From'].map(split_email_addresses)\n",
    "emails_df['To'] = emails_df['To'].map(split_email_addresses)\n",
    "emails_df['user'] = emails_df['file'].map(lambda x:x.split('/')[0])\n",
    "del messages\n",
    "\n",
    "emails_df.head()"
   ]
  },
  {
   "cell_type": "code",
   "execution_count": 5,
   "metadata": {},
   "outputs": [
    {
     "data": {
      "text/plain": [
       "Date       object\n",
       "From       object\n",
       "To         object\n",
       "Subject    object\n",
       "content    object\n",
       "dtype: object"
      ]
     },
     "execution_count": 5,
     "metadata": {},
     "output_type": "execute_result"
    }
   ],
   "source": [
    "emails_df = emails_df.set_index('Message-ID')\\\n",
    "    .drop(['file', 'Mime-Version', 'Content-Type', 'Content-Transfer-Encoding','X-From','X-To','X-cc','X-bcc','X-Folder','X-Origin','X-FileName','user'], axis=1)\n",
    "emails_df['Date'] = pd.to_datetime(emails_df['Date'], infer_datetime_format=True)\n",
    "emails_df.dtypes"
   ]
  },
  {
   "cell_type": "code",
   "execution_count": 6,
   "metadata": {},
   "outputs": [],
   "source": [
    "def clean(text):\n",
    "    stop = set(stopwords.words('english'))\n",
    "    stop.update((\"to\",\"cc\",\"subject\",\"http\",\"from\",\"sent\"))\n",
    "    exclude = set(string.punctuation) \n",
    "    lemma = WordNetLemmatizer()\n",
    "    porter= PorterStemmer()\n",
    "    \n",
    "    text=text.rstrip()\n",
    "    text = re.sub(r'[^a-zA-Z]', ' ', text)\n",
    "    stop_free = \" \".join([i for i in text.lower().split() if((i not in stop) and (not i.isdigit()))])\n",
    "    punc_free = ''.join(ch for ch in stop_free if ch not in exclude)\n",
    "    normalized = \" \".join(lemma.lemmatize(word) for word in punc_free.split())\n",
    "    \n",
    "    return normalized"
   ]
  },
  {
   "cell_type": "code",
   "execution_count": 7,
   "metadata": {},
   "outputs": [],
   "source": [
    "analysis_df=emails_df[['From', 'To', 'Date','Subject','content']].dropna().copy()\n",
    "analysis_df = analysis_df.loc[analysis_df['To'].map(len) == 1]"
   ]
  },
  {
   "cell_type": "code",
   "execution_count": 8,
   "metadata": {},
   "outputs": [],
   "source": [
    "eng_stopwords = set(stopwords.words('english'))\n",
    "def clean_text(text):\n",
    "    text = re.sub(r'[^a-zA-Z]', ' ', text)\n",
    "    words = text.lower().split()\n",
    "    words = [w for w in words if w not in eng_stopwords]\n",
    "    return ' '.join(words)\n",
    "\n",
    "analysis_df[\"clean_content\"]=analysis_df.content.apply(clean_text)"
   ]
  },
  {
   "cell_type": "code",
   "execution_count": 9,
   "metadata": {},
   "outputs": [
    {
     "data": {
      "text/html": [
       "<div>\n",
       "<style scoped>\n",
       "    .dataframe tbody tr th:only-of-type {\n",
       "        vertical-align: middle;\n",
       "    }\n",
       "\n",
       "    .dataframe tbody tr th {\n",
       "        vertical-align: top;\n",
       "    }\n",
       "\n",
       "    .dataframe thead th {\n",
       "        text-align: right;\n",
       "    }\n",
       "</style>\n",
       "<table border=\"1\" class=\"dataframe\">\n",
       "  <thead>\n",
       "    <tr style=\"text-align: right;\">\n",
       "      <th></th>\n",
       "      <th>From</th>\n",
       "      <th>To</th>\n",
       "      <th>Date</th>\n",
       "      <th>Subject</th>\n",
       "      <th>content</th>\n",
       "      <th>clean_content</th>\n",
       "    </tr>\n",
       "    <tr>\n",
       "      <th>Message-ID</th>\n",
       "      <th></th>\n",
       "      <th></th>\n",
       "      <th></th>\n",
       "      <th></th>\n",
       "      <th></th>\n",
       "      <th></th>\n",
       "    </tr>\n",
       "  </thead>\n",
       "  <tbody>\n",
       "    <tr>\n",
       "      <th>&lt;18782981.1075855378110.JavaMail.evans@thyme&gt;</th>\n",
       "      <td>(phillip.allen@enron.com)</td>\n",
       "      <td>(tim.belden@enron.com)</td>\n",
       "      <td>2001-05-14 16:39:00-07:00</td>\n",
       "      <td></td>\n",
       "      <td>Here is our forecast\\n\\n</td>\n",
       "      <td>forecast</td>\n",
       "    </tr>\n",
       "    <tr>\n",
       "      <th>&lt;15464986.1075855378456.JavaMail.evans@thyme&gt;</th>\n",
       "      <td>(phillip.allen@enron.com)</td>\n",
       "      <td>(john.lavorato@enron.com)</td>\n",
       "      <td>2001-05-04 13:51:00-07:00</td>\n",
       "      <td>Re:</td>\n",
       "      <td>Traveling to have a business meeting takes the...</td>\n",
       "      <td>traveling business meeting takes fun trip espe...</td>\n",
       "    </tr>\n",
       "    <tr>\n",
       "      <th>&lt;24216240.1075855687451.JavaMail.evans@thyme&gt;</th>\n",
       "      <td>(phillip.allen@enron.com)</td>\n",
       "      <td>(leah.arsdall@enron.com)</td>\n",
       "      <td>2000-10-18 03:00:00-07:00</td>\n",
       "      <td>Re: test</td>\n",
       "      <td>test successful.  way to go!!!</td>\n",
       "      <td>test successful way go</td>\n",
       "    </tr>\n",
       "    <tr>\n",
       "      <th>&lt;13505866.1075863688222.JavaMail.evans@thyme&gt;</th>\n",
       "      <td>(phillip.allen@enron.com)</td>\n",
       "      <td>(randall.gay@enron.com)</td>\n",
       "      <td>2000-10-23 06:13:00-07:00</td>\n",
       "      <td></td>\n",
       "      <td>Randy,\\n\\n Can you send me a schedule of the s...</td>\n",
       "      <td>randy send schedule salary level everyone sche...</td>\n",
       "    </tr>\n",
       "    <tr>\n",
       "      <th>&lt;30922949.1075863688243.JavaMail.evans@thyme&gt;</th>\n",
       "      <td>(phillip.allen@enron.com)</td>\n",
       "      <td>(greg.piper@enron.com)</td>\n",
       "      <td>2000-08-31 05:07:00-07:00</td>\n",
       "      <td>Re: Hello</td>\n",
       "      <td>Let's shoot for Tuesday at 11:45.</td>\n",
       "      <td>let shoot tuesday</td>\n",
       "    </tr>\n",
       "  </tbody>\n",
       "</table>\n",
       "</div>"
      ],
      "text/plain": [
       "                                                                    From  \\\n",
       "Message-ID                                                                 \n",
       "<18782981.1075855378110.JavaMail.evans@thyme>  (phillip.allen@enron.com)   \n",
       "<15464986.1075855378456.JavaMail.evans@thyme>  (phillip.allen@enron.com)   \n",
       "<24216240.1075855687451.JavaMail.evans@thyme>  (phillip.allen@enron.com)   \n",
       "<13505866.1075863688222.JavaMail.evans@thyme>  (phillip.allen@enron.com)   \n",
       "<30922949.1075863688243.JavaMail.evans@thyme>  (phillip.allen@enron.com)   \n",
       "\n",
       "                                                                      To  \\\n",
       "Message-ID                                                                 \n",
       "<18782981.1075855378110.JavaMail.evans@thyme>     (tim.belden@enron.com)   \n",
       "<15464986.1075855378456.JavaMail.evans@thyme>  (john.lavorato@enron.com)   \n",
       "<24216240.1075855687451.JavaMail.evans@thyme>   (leah.arsdall@enron.com)   \n",
       "<13505866.1075863688222.JavaMail.evans@thyme>    (randall.gay@enron.com)   \n",
       "<30922949.1075863688243.JavaMail.evans@thyme>     (greg.piper@enron.com)   \n",
       "\n",
       "                                                                    Date  \\\n",
       "Message-ID                                                                 \n",
       "<18782981.1075855378110.JavaMail.evans@thyme>  2001-05-14 16:39:00-07:00   \n",
       "<15464986.1075855378456.JavaMail.evans@thyme>  2001-05-04 13:51:00-07:00   \n",
       "<24216240.1075855687451.JavaMail.evans@thyme>  2000-10-18 03:00:00-07:00   \n",
       "<13505866.1075863688222.JavaMail.evans@thyme>  2000-10-23 06:13:00-07:00   \n",
       "<30922949.1075863688243.JavaMail.evans@thyme>  2000-08-31 05:07:00-07:00   \n",
       "\n",
       "                                                 Subject  \\\n",
       "Message-ID                                                 \n",
       "<18782981.1075855378110.JavaMail.evans@thyme>              \n",
       "<15464986.1075855378456.JavaMail.evans@thyme>        Re:   \n",
       "<24216240.1075855687451.JavaMail.evans@thyme>   Re: test   \n",
       "<13505866.1075863688222.JavaMail.evans@thyme>              \n",
       "<30922949.1075863688243.JavaMail.evans@thyme>  Re: Hello   \n",
       "\n",
       "                                                                                         content  \\\n",
       "Message-ID                                                                                         \n",
       "<18782981.1075855378110.JavaMail.evans@thyme>                          Here is our forecast\\n\\n    \n",
       "<15464986.1075855378456.JavaMail.evans@thyme>  Traveling to have a business meeting takes the...   \n",
       "<24216240.1075855687451.JavaMail.evans@thyme>                     test successful.  way to go!!!   \n",
       "<13505866.1075863688222.JavaMail.evans@thyme>  Randy,\\n\\n Can you send me a schedule of the s...   \n",
       "<30922949.1075863688243.JavaMail.evans@thyme>                Let's shoot for Tuesday at 11:45.     \n",
       "\n",
       "                                                                                   clean_content  \n",
       "Message-ID                                                                                        \n",
       "<18782981.1075855378110.JavaMail.evans@thyme>                                           forecast  \n",
       "<15464986.1075855378456.JavaMail.evans@thyme>  traveling business meeting takes fun trip espe...  \n",
       "<24216240.1075855687451.JavaMail.evans@thyme>                             test successful way go  \n",
       "<13505866.1075863688222.JavaMail.evans@thyme>  randy send schedule salary level everyone sche...  \n",
       "<30922949.1075863688243.JavaMail.evans@thyme>                                  let shoot tuesday  "
      ]
     },
     "execution_count": 9,
     "metadata": {},
     "output_type": "execute_result"
    }
   ],
   "source": [
    "analysis_df.head()"
   ]
  },
  {
   "cell_type": "code",
   "execution_count": 10,
   "metadata": {},
   "outputs": [
    {
     "data": {
      "text/html": [
       "<div>\n",
       "<style scoped>\n",
       "    .dataframe tbody tr th:only-of-type {\n",
       "        vertical-align: middle;\n",
       "    }\n",
       "\n",
       "    .dataframe tbody tr th {\n",
       "        vertical-align: top;\n",
       "    }\n",
       "\n",
       "    .dataframe thead th {\n",
       "        text-align: right;\n",
       "    }\n",
       "</style>\n",
       "<table border=\"1\" class=\"dataframe\">\n",
       "  <thead>\n",
       "    <tr style=\"text-align: right;\">\n",
       "      <th></th>\n",
       "      <th>From</th>\n",
       "      <th>To</th>\n",
       "      <th>Date</th>\n",
       "      <th>Subject</th>\n",
       "      <th>clean_content</th>\n",
       "    </tr>\n",
       "    <tr>\n",
       "      <th>Message-ID</th>\n",
       "      <th></th>\n",
       "      <th></th>\n",
       "      <th></th>\n",
       "      <th></th>\n",
       "      <th></th>\n",
       "    </tr>\n",
       "  </thead>\n",
       "  <tbody>\n",
       "    <tr>\n",
       "      <th>&lt;18782981.1075855378110.JavaMail.evans@thyme&gt;</th>\n",
       "      <td>(phillip.allen@enron.com)</td>\n",
       "      <td>(tim.belden@enron.com)</td>\n",
       "      <td>2001-05-14 16:39:00-07:00</td>\n",
       "      <td></td>\n",
       "      <td>forecast</td>\n",
       "    </tr>\n",
       "    <tr>\n",
       "      <th>&lt;15464986.1075855378456.JavaMail.evans@thyme&gt;</th>\n",
       "      <td>(phillip.allen@enron.com)</td>\n",
       "      <td>(john.lavorato@enron.com)</td>\n",
       "      <td>2001-05-04 13:51:00-07:00</td>\n",
       "      <td>Re:</td>\n",
       "      <td>traveling business meeting takes fun trip espe...</td>\n",
       "    </tr>\n",
       "    <tr>\n",
       "      <th>&lt;24216240.1075855687451.JavaMail.evans@thyme&gt;</th>\n",
       "      <td>(phillip.allen@enron.com)</td>\n",
       "      <td>(leah.arsdall@enron.com)</td>\n",
       "      <td>2000-10-18 03:00:00-07:00</td>\n",
       "      <td>Re: test</td>\n",
       "      <td>test successful way go</td>\n",
       "    </tr>\n",
       "    <tr>\n",
       "      <th>&lt;13505866.1075863688222.JavaMail.evans@thyme&gt;</th>\n",
       "      <td>(phillip.allen@enron.com)</td>\n",
       "      <td>(randall.gay@enron.com)</td>\n",
       "      <td>2000-10-23 06:13:00-07:00</td>\n",
       "      <td></td>\n",
       "      <td>randy send schedule salary level everyone sche...</td>\n",
       "    </tr>\n",
       "    <tr>\n",
       "      <th>&lt;30922949.1075863688243.JavaMail.evans@thyme&gt;</th>\n",
       "      <td>(phillip.allen@enron.com)</td>\n",
       "      <td>(greg.piper@enron.com)</td>\n",
       "      <td>2000-08-31 05:07:00-07:00</td>\n",
       "      <td>Re: Hello</td>\n",
       "      <td>let shoot tuesday</td>\n",
       "    </tr>\n",
       "    <tr>\n",
       "      <th>...</th>\n",
       "      <td>...</td>\n",
       "      <td>...</td>\n",
       "      <td>...</td>\n",
       "      <td>...</td>\n",
       "      <td>...</td>\n",
       "    </tr>\n",
       "    <tr>\n",
       "      <th>&lt;26807948.1075842029936.JavaMail.evans@thyme&gt;</th>\n",
       "      <td>(john.zufferli@enron.com)</td>\n",
       "      <td>(kori.loibl@enron.com)</td>\n",
       "      <td>2001-11-28 13:30:11-08:00</td>\n",
       "      <td>Trade with John Lavorato</td>\n",
       "      <td>trade oil spec hedge ng john lavorato book joh...</td>\n",
       "    </tr>\n",
       "    <tr>\n",
       "      <th>&lt;25835861.1075842029959.JavaMail.evans@thyme&gt;</th>\n",
       "      <td>(john.zufferli@enron.com)</td>\n",
       "      <td>(john.lavorato@enron.com)</td>\n",
       "      <td>2001-11-28 12:47:48-08:00</td>\n",
       "      <td>Gas Hedges</td>\n",
       "      <td>position alberta term book send positions dire...</td>\n",
       "    </tr>\n",
       "    <tr>\n",
       "      <th>&lt;28979867.1075842029988.JavaMail.evans@thyme&gt;</th>\n",
       "      <td>(john.zufferli@enron.com)</td>\n",
       "      <td>(dawn.doucet@enron.com)</td>\n",
       "      <td>2001-11-28 07:20:00-08:00</td>\n",
       "      <td>RE: CONFIDENTIAL</td>\n",
       "      <td>original message doucet dawn sent wednesday no...</td>\n",
       "    </tr>\n",
       "    <tr>\n",
       "      <th>&lt;22052556.1075842030013.JavaMail.evans@thyme&gt;</th>\n",
       "      <td>(john.zufferli@enron.com)</td>\n",
       "      <td>(jeanie.slone@enron.com)</td>\n",
       "      <td>2001-11-27 11:52:45-08:00</td>\n",
       "      <td>Calgary Analyst/Associate</td>\n",
       "      <td>analyst rank stephane brodeur chad clark ian c...</td>\n",
       "    </tr>\n",
       "    <tr>\n",
       "      <th>&lt;28618979.1075842030037.JavaMail.evans@thyme&gt;</th>\n",
       "      <td>(john.zufferli@enron.com)</td>\n",
       "      <td>(livia_zufferli@monitor.com)</td>\n",
       "      <td>2001-11-26 10:48:43-08:00</td>\n",
       "      <td>RE: ali's essays</td>\n",
       "      <td>think ymca class people recovering heart attac...</td>\n",
       "    </tr>\n",
       "  </tbody>\n",
       "</table>\n",
       "<p>354600 rows × 5 columns</p>\n",
       "</div>"
      ],
      "text/plain": [
       "                                                                    From  \\\n",
       "Message-ID                                                                 \n",
       "<18782981.1075855378110.JavaMail.evans@thyme>  (phillip.allen@enron.com)   \n",
       "<15464986.1075855378456.JavaMail.evans@thyme>  (phillip.allen@enron.com)   \n",
       "<24216240.1075855687451.JavaMail.evans@thyme>  (phillip.allen@enron.com)   \n",
       "<13505866.1075863688222.JavaMail.evans@thyme>  (phillip.allen@enron.com)   \n",
       "<30922949.1075863688243.JavaMail.evans@thyme>  (phillip.allen@enron.com)   \n",
       "...                                                                  ...   \n",
       "<26807948.1075842029936.JavaMail.evans@thyme>  (john.zufferli@enron.com)   \n",
       "<25835861.1075842029959.JavaMail.evans@thyme>  (john.zufferli@enron.com)   \n",
       "<28979867.1075842029988.JavaMail.evans@thyme>  (john.zufferli@enron.com)   \n",
       "<22052556.1075842030013.JavaMail.evans@thyme>  (john.zufferli@enron.com)   \n",
       "<28618979.1075842030037.JavaMail.evans@thyme>  (john.zufferli@enron.com)   \n",
       "\n",
       "                                                                         To  \\\n",
       "Message-ID                                                                    \n",
       "<18782981.1075855378110.JavaMail.evans@thyme>        (tim.belden@enron.com)   \n",
       "<15464986.1075855378456.JavaMail.evans@thyme>     (john.lavorato@enron.com)   \n",
       "<24216240.1075855687451.JavaMail.evans@thyme>      (leah.arsdall@enron.com)   \n",
       "<13505866.1075863688222.JavaMail.evans@thyme>       (randall.gay@enron.com)   \n",
       "<30922949.1075863688243.JavaMail.evans@thyme>        (greg.piper@enron.com)   \n",
       "...                                                                     ...   \n",
       "<26807948.1075842029936.JavaMail.evans@thyme>        (kori.loibl@enron.com)   \n",
       "<25835861.1075842029959.JavaMail.evans@thyme>     (john.lavorato@enron.com)   \n",
       "<28979867.1075842029988.JavaMail.evans@thyme>       (dawn.doucet@enron.com)   \n",
       "<22052556.1075842030013.JavaMail.evans@thyme>      (jeanie.slone@enron.com)   \n",
       "<28618979.1075842030037.JavaMail.evans@thyme>  (livia_zufferli@monitor.com)   \n",
       "\n",
       "                                                                    Date  \\\n",
       "Message-ID                                                                 \n",
       "<18782981.1075855378110.JavaMail.evans@thyme>  2001-05-14 16:39:00-07:00   \n",
       "<15464986.1075855378456.JavaMail.evans@thyme>  2001-05-04 13:51:00-07:00   \n",
       "<24216240.1075855687451.JavaMail.evans@thyme>  2000-10-18 03:00:00-07:00   \n",
       "<13505866.1075863688222.JavaMail.evans@thyme>  2000-10-23 06:13:00-07:00   \n",
       "<30922949.1075863688243.JavaMail.evans@thyme>  2000-08-31 05:07:00-07:00   \n",
       "...                                                                  ...   \n",
       "<26807948.1075842029936.JavaMail.evans@thyme>  2001-11-28 13:30:11-08:00   \n",
       "<25835861.1075842029959.JavaMail.evans@thyme>  2001-11-28 12:47:48-08:00   \n",
       "<28979867.1075842029988.JavaMail.evans@thyme>  2001-11-28 07:20:00-08:00   \n",
       "<22052556.1075842030013.JavaMail.evans@thyme>  2001-11-27 11:52:45-08:00   \n",
       "<28618979.1075842030037.JavaMail.evans@thyme>  2001-11-26 10:48:43-08:00   \n",
       "\n",
       "                                                                 Subject  \\\n",
       "Message-ID                                                                 \n",
       "<18782981.1075855378110.JavaMail.evans@thyme>                              \n",
       "<15464986.1075855378456.JavaMail.evans@thyme>                        Re:   \n",
       "<24216240.1075855687451.JavaMail.evans@thyme>                   Re: test   \n",
       "<13505866.1075863688222.JavaMail.evans@thyme>                              \n",
       "<30922949.1075863688243.JavaMail.evans@thyme>                  Re: Hello   \n",
       "...                                                                  ...   \n",
       "<26807948.1075842029936.JavaMail.evans@thyme>   Trade with John Lavorato   \n",
       "<25835861.1075842029959.JavaMail.evans@thyme>                 Gas Hedges   \n",
       "<28979867.1075842029988.JavaMail.evans@thyme>           RE: CONFIDENTIAL   \n",
       "<22052556.1075842030013.JavaMail.evans@thyme>  Calgary Analyst/Associate   \n",
       "<28618979.1075842030037.JavaMail.evans@thyme>           RE: ali's essays   \n",
       "\n",
       "                                                                                   clean_content  \n",
       "Message-ID                                                                                        \n",
       "<18782981.1075855378110.JavaMail.evans@thyme>                                           forecast  \n",
       "<15464986.1075855378456.JavaMail.evans@thyme>  traveling business meeting takes fun trip espe...  \n",
       "<24216240.1075855687451.JavaMail.evans@thyme>                             test successful way go  \n",
       "<13505866.1075863688222.JavaMail.evans@thyme>  randy send schedule salary level everyone sche...  \n",
       "<30922949.1075863688243.JavaMail.evans@thyme>                                  let shoot tuesday  \n",
       "...                                                                                          ...  \n",
       "<26807948.1075842029936.JavaMail.evans@thyme>  trade oil spec hedge ng john lavorato book joh...  \n",
       "<25835861.1075842029959.JavaMail.evans@thyme>  position alberta term book send positions dire...  \n",
       "<28979867.1075842029988.JavaMail.evans@thyme>  original message doucet dawn sent wednesday no...  \n",
       "<22052556.1075842030013.JavaMail.evans@thyme>  analyst rank stephane brodeur chad clark ian c...  \n",
       "<28618979.1075842030037.JavaMail.evans@thyme>  think ymca class people recovering heart attac...  \n",
       "\n",
       "[354600 rows x 5 columns]"
      ]
     },
     "execution_count": 10,
     "metadata": {},
     "output_type": "execute_result"
    }
   ],
   "source": [
    "analysis_df.drop('content',axis=1)"
   ]
  },
  {
   "cell_type": "code",
   "execution_count": 11,
   "metadata": {},
   "outputs": [],
   "source": [
    "wordvector = TfidfVectorizer(analyzer='word', stop_words='english', max_df=0.4, min_df=5)\n",
    "short_analysis=analysis_df.sample(5000)\n",
    "wordvector_fit = wordvector.fit_transform(short_analysis.clean_content)\n",
    "feature = wordvector.get_feature_names()"
   ]
  },
  {
   "cell_type": "code",
   "execution_count": 12,
   "metadata": {},
   "outputs": [],
   "source": [
    "N = 4\n",
    "clf = KMeans(n_clusters=N, \n",
    "            max_iter=50, \n",
    "            init='k-means++', \n",
    "            n_init=1)\n",
    "labels = clf.fit_predict(wordvector_fit)"
   ]
  },
  {
   "cell_type": "code",
   "execution_count": 13,
   "metadata": {},
   "outputs": [],
   "source": [
    "wordvector_fit_2d = wordvector_fit.todense()\n",
    "pca = PCA(n_components=2).fit(wordvector_fit_2d)\n",
    "datapoint = pca.transform(wordvector_fit_2d)"
   ]
  },
  {
   "cell_type": "code",
   "execution_count": 14,
   "metadata": {},
   "outputs": [
    {
     "data": {
      "image/png": "[encoded data removed]",
      "text/plain": [
       "<Figure size 432x288 with 1 Axes>"
      ]
     },
     "metadata": {
      "needs_background": "light"
     },
     "output_type": "display_data"
    }
   ],
   "source": [
    "label = [\"#e05f14\", \"#e0dc14\", \"#2fe014\", \"#14d2e0\"]\n",
    "color = [label[i] for i in labels]\n",
    "plt.scatter(datapoint[:, 0], datapoint[:, 1], c=color)\n",
    "\n",
    "centroids = clf.cluster_centers_\n",
    "centroidpoint = pca.transform(centroids)\n",
    "plt.scatter(centroidpoint[:, 0], centroidpoint[:, 1], marker='^', s=150, c='#000000')\n",
    "plt.show()"
   ]
  },
  {
   "cell_type": "code",
   "execution_count": 15,
   "metadata": {},
   "outputs": [],
   "source": [
    "from sklearn.feature_extraction.text import CountVectorizer\n",
    "cv = CountVectorizer(max_df=0.95, min_df=2, stop_words='english')"
   ]
  },
  {
   "cell_type": "code",
   "execution_count": 16,
   "metadata": {},
   "outputs": [],
   "source": [
    "#vectoriztion of clean content \n",
    "dtm = cv.fit_transform(analysis_df.clean_content.values)"
   ]
  },
  {
   "cell_type": "code",
   "execution_count": 17,
   "metadata": {},
   "outputs": [
    {
     "data": {
      "text/plain": [
       "<354600x279897 sparse matrix of type '<class 'numpy.int64'>'\n",
       "\twith 28631673 stored elements in Compressed Sparse Row format>"
      ]
     },
     "execution_count": 17,
     "metadata": {},
     "output_type": "execute_result"
    }
   ],
   "source": [
    "dtm"
   ]
  },
  {
   "cell_type": "code",
   "execution_count": 18,
   "metadata": {},
   "outputs": [],
   "source": [
    "#using LDA \n",
    "from sklearn.decomposition import LatentDirichletAllocation\n",
    "LDA = LatentDirichletAllocation(n_components=10,random_state=42)"
   ]
  },
  {
   "cell_type": "code",
   "execution_count": null,
   "metadata": {},
   "outputs": [],
   "source": [
    "LDA.fit(dtm)"
   ]
  },
  {
   "cell_type": "code",
   "execution_count": 20,
   "metadata": {},
   "outputs": [
    {
     "name": "stdout",
     "output_type": "stream",
     "text": [
      "THE TOP 15 WORDS FOR TOPIC #0\n",
      "['know', 'net', 'aol', 'recipient', 'cc', 'intended', 'mailto', 'pm', 'original', 'sent', 'mail', 'subject', 'message', 'enron', 'com']\n",
      "\n",
      "\n",
      "THE TOP 15 WORDS FOR TOPIC #1\n",
      "['type', 'schedule', 'alias', 'hour', 'aaaaaaaaaaaaaaaaaaaaaaaaaaaaaaaaaaaaaaaaaaaaaaaaaaaaaaaaaaaaaaaaaaaaaaaaaaaa', 'schedules', 'pm', 'dbcaps', 'way', 'id', 'final', 'date', 'error', 'database', 'data']\n",
      "\n",
      "\n",
      "THE TOP 15 WORDS FOR TOPIC #2\n",
      "['management', 'services', 'www', 'http', 'companies', 'year', 'president', 'enron', 'energy', 'business', 'million', 'com', 'new', 'said', 'company']\n",
      "\n",
      "\n",
      "THE TOP 15 WORDS FOR TOPIC #3\n",
      "['need', 'sent', 'let', 'deal', 'forwarded', 'know', 'agreement', 'corp', 'thanks', 'pm', 'cc', 'subject', 'hou', 'enron', 'ect']\n",
      "\n",
      "\n",
      "THE TOP 15 WORDS FOR TOPIC #4\n",
      "['capacity', 'ferc', 'customers', 'new', 'prices', 'electricity', 'time', 'information', 'state', 'price', 'california', 'energy', 'gas', 'market', 'power']\n",
      "\n",
      "\n",
      "THE TOP 15 WORDS FOR TOPIC #5\n",
      "['jeff', 'forwarded', 'et', 'pm', 'subject', 'communications', 'cc', 'enronxgate', 'development', 'na', 'corp', 'ees', 'hou', 'ect', 'enron']\n",
      "\n",
      "\n",
      "THE TOP 15 WORDS FOR TOPIC #6\n",
      "['images', 'news', 'mail', 'new', 'net', 'gif', 'free', 'html', 'asp', 'click', 'email', 'image', 'www', 'http', 'com']\n",
      "\n",
      "\n",
      "THE TOP 15 WORDS FOR TOPIC #7\n",
      "['year', 'help', 'make', 'travel', 'know', 'great', 'like', 'information', 'day', 'th', 'new', 'com', 'time', 'houston', 'enron']\n",
      "\n",
      "\n",
      "THE TOP 15 WORDS FOR TOPIC #8\n",
      "['sportsline', 'nbsp', 'face', 'class', 'fantasy', 'href', 'width', 'align', 'http', 'com', 'size', 'tr', 'br', 'font', 'td']\n",
      "\n",
      "\n",
      "THE TOP 15 WORDS FOR TOPIC #9\n",
      "['like', 'let', 'message', 'sent', 'omni', 'cc', 'kaminski', 'meeting', 'time', 'know', 'thanks', 'subject', 'vince', 'pm', 'enron']\n",
      "\n",
      "\n"
     ]
    }
   ],
   "source": [
    "#printing out the top 15 words of each topic \n",
    "for index,topic in enumerate(LDA.components_):\n",
    "    print(f'THE TOP 15 WORDS FOR TOPIC #{index}')\n",
    "    print([cv.get_feature_names()[i] for i in topic.argsort()[-15:]])\n",
    "    print('\\n')"
   ]
  },
  {
   "cell_type": "code",
   "execution_count": 21,
   "metadata": {},
   "outputs": [
    {
     "data": {
      "text/plain": [
       "354600"
      ]
     },
     "execution_count": 21,
     "metadata": {},
     "output_type": "execute_result"
    }
   ],
   "source": [
    "topic_results = LDA.transform(dtm)"
   ]
  },
  {
   "cell_type": "code",
   "execution_count": 22,
   "metadata": {},
   "outputs": [
    {
     "data": {
      "text/plain": [
       "354600"
      ]
     },
     "execution_count": 22,
     "metadata": {},
     "output_type": "execute_result"
    }
   ],
   "source": [
    "topic_results.argmax(axis=1)\n",
    "# analysis_df_t=analysis_df[:10000]"
   ]
  },
  {
   "cell_type": "code",
   "execution_count": 23,
   "metadata": {},
   "outputs": [],
   "source": [
    "# analysis_df_t['topic']=topic_results.argmax(axis=1)\n",
    "analysis_df['topic']=topic_results.argmax(axis=1)"
   ]
  },
  {
   "cell_type": "code",
   "execution_count": 24,
   "metadata": {},
   "outputs": [
    {
     "data": {
      "text/html": [
       "<div>\n",
       "<style scoped>\n",
       "    .dataframe tbody tr th:only-of-type {\n",
       "        vertical-align: middle;\n",
       "    }\n",
       "\n",
       "    .dataframe tbody tr th {\n",
       "        vertical-align: top;\n",
       "    }\n",
       "\n",
       "    .dataframe thead th {\n",
       "        text-align: right;\n",
       "    }\n",
       "</style>\n",
       "<table border=\"1\" class=\"dataframe\">\n",
       "  <thead>\n",
       "    <tr style=\"text-align: right;\">\n",
       "      <th></th>\n",
       "      <th>From</th>\n",
       "      <th>To</th>\n",
       "      <th>Date</th>\n",
       "      <th>Subject</th>\n",
       "      <th>content</th>\n",
       "      <th>clean_content</th>\n",
       "      <th>topic</th>\n",
       "    </tr>\n",
       "    <tr>\n",
       "      <th>Message-ID</th>\n",
       "      <th></th>\n",
       "      <th></th>\n",
       "      <th></th>\n",
       "      <th></th>\n",
       "      <th></th>\n",
       "      <th></th>\n",
       "      <th></th>\n",
       "    </tr>\n",
       "  </thead>\n",
       "  <tbody>\n",
       "    <tr>\n",
       "      <th>&lt;18782981.1075855378110.JavaMail.evans@thyme&gt;</th>\n",
       "      <td>(phillip.allen@enron.com)</td>\n",
       "      <td>(tim.belden@enron.com)</td>\n",
       "      <td>2001-05-14 16:39:00-07:00</td>\n",
       "      <td></td>\n",
       "      <td>Here is our forecast\\n\\n</td>\n",
       "      <td>forecast</td>\n",
       "      <td>6</td>\n",
       "    </tr>\n",
       "    <tr>\n",
       "      <th>&lt;15464986.1075855378456.JavaMail.evans@thyme&gt;</th>\n",
       "      <td>(phillip.allen@enron.com)</td>\n",
       "      <td>(john.lavorato@enron.com)</td>\n",
       "      <td>2001-05-04 13:51:00-07:00</td>\n",
       "      <td>Re:</td>\n",
       "      <td>Traveling to have a business meeting takes the...</td>\n",
       "      <td>traveling business meeting takes fun trip espe...</td>\n",
       "      <td>7</td>\n",
       "    </tr>\n",
       "    <tr>\n",
       "      <th>&lt;24216240.1075855687451.JavaMail.evans@thyme&gt;</th>\n",
       "      <td>(phillip.allen@enron.com)</td>\n",
       "      <td>(leah.arsdall@enron.com)</td>\n",
       "      <td>2000-10-18 03:00:00-07:00</td>\n",
       "      <td>Re: test</td>\n",
       "      <td>test successful.  way to go!!!</td>\n",
       "      <td>test successful way go</td>\n",
       "      <td>2</td>\n",
       "    </tr>\n",
       "    <tr>\n",
       "      <th>&lt;13505866.1075863688222.JavaMail.evans@thyme&gt;</th>\n",
       "      <td>(phillip.allen@enron.com)</td>\n",
       "      <td>(randall.gay@enron.com)</td>\n",
       "      <td>2000-10-23 06:13:00-07:00</td>\n",
       "      <td></td>\n",
       "      <td>Randy,\\n\\n Can you send me a schedule of the s...</td>\n",
       "      <td>randy send schedule salary level everyone sche...</td>\n",
       "      <td>9</td>\n",
       "    </tr>\n",
       "    <tr>\n",
       "      <th>&lt;30922949.1075863688243.JavaMail.evans@thyme&gt;</th>\n",
       "      <td>(phillip.allen@enron.com)</td>\n",
       "      <td>(greg.piper@enron.com)</td>\n",
       "      <td>2000-08-31 05:07:00-07:00</td>\n",
       "      <td>Re: Hello</td>\n",
       "      <td>Let's shoot for Tuesday at 11:45.</td>\n",
       "      <td>let shoot tuesday</td>\n",
       "      <td>0</td>\n",
       "    </tr>\n",
       "    <tr>\n",
       "      <th>...</th>\n",
       "      <td>...</td>\n",
       "      <td>...</td>\n",
       "      <td>...</td>\n",
       "      <td>...</td>\n",
       "      <td>...</td>\n",
       "      <td>...</td>\n",
       "      <td>...</td>\n",
       "    </tr>\n",
       "    <tr>\n",
       "      <th>&lt;26807948.1075842029936.JavaMail.evans@thyme&gt;</th>\n",
       "      <td>(john.zufferli@enron.com)</td>\n",
       "      <td>(kori.loibl@enron.com)</td>\n",
       "      <td>2001-11-28 13:30:11-08:00</td>\n",
       "      <td>Trade with John Lavorato</td>\n",
       "      <td>This is a trade with OIL-SPEC-HEDGE-NG (John L...</td>\n",
       "      <td>trade oil spec hedge ng john lavorato book joh...</td>\n",
       "      <td>3</td>\n",
       "    </tr>\n",
       "    <tr>\n",
       "      <th>&lt;25835861.1075842029959.JavaMail.evans@thyme&gt;</th>\n",
       "      <td>(john.zufferli@enron.com)</td>\n",
       "      <td>(john.lavorato@enron.com)</td>\n",
       "      <td>2001-11-28 12:47:48-08:00</td>\n",
       "      <td>Gas Hedges</td>\n",
       "      <td>Some of my position is with the Alberta Term b...</td>\n",
       "      <td>position alberta term book send positions dire...</td>\n",
       "      <td>3</td>\n",
       "    </tr>\n",
       "    <tr>\n",
       "      <th>&lt;28979867.1075842029988.JavaMail.evans@thyme&gt;</th>\n",
       "      <td>(john.zufferli@enron.com)</td>\n",
       "      <td>(dawn.doucet@enron.com)</td>\n",
       "      <td>2001-11-28 07:20:00-08:00</td>\n",
       "      <td>RE: CONFIDENTIAL</td>\n",
       "      <td>2\\n\\n -----Original Message-----\\nFrom: \\tDouc...</td>\n",
       "      <td>original message doucet dawn sent wednesday no...</td>\n",
       "      <td>9</td>\n",
       "    </tr>\n",
       "    <tr>\n",
       "      <th>&lt;22052556.1075842030013.JavaMail.evans@thyme&gt;</th>\n",
       "      <td>(john.zufferli@enron.com)</td>\n",
       "      <td>(jeanie.slone@enron.com)</td>\n",
       "      <td>2001-11-27 11:52:45-08:00</td>\n",
       "      <td>Calgary Analyst/Associate</td>\n",
       "      <td>Analyst\\t\\t\\t\\t\\tRank\\n\\nStephane Brodeur\\t\\t\\...</td>\n",
       "      <td>analyst rank stephane brodeur chad clark ian c...</td>\n",
       "      <td>5</td>\n",
       "    </tr>\n",
       "    <tr>\n",
       "      <th>&lt;28618979.1075842030037.JavaMail.evans@thyme&gt;</th>\n",
       "      <td>(john.zufferli@enron.com)</td>\n",
       "      <td>(livia_zufferli@monitor.com)</td>\n",
       "      <td>2001-11-26 10:48:43-08:00</td>\n",
       "      <td>RE: ali's essays</td>\n",
       "      <td>i think the YMCA has a class that is for peopl...</td>\n",
       "      <td>think ymca class people recovering heart attac...</td>\n",
       "      <td>0</td>\n",
       "    </tr>\n",
       "  </tbody>\n",
       "</table>\n",
       "<p>354600 rows × 7 columns</p>\n",
       "</div>"
      ],
      "text/plain": [
       "                                                                    From  \\\n",
       "Message-ID                                                                 \n",
       "<18782981.1075855378110.JavaMail.evans@thyme>  (phillip.allen@enron.com)   \n",
       "<15464986.1075855378456.JavaMail.evans@thyme>  (phillip.allen@enron.com)   \n",
       "<24216240.1075855687451.JavaMail.evans@thyme>  (phillip.allen@enron.com)   \n",
       "<13505866.1075863688222.JavaMail.evans@thyme>  (phillip.allen@enron.com)   \n",
       "<30922949.1075863688243.JavaMail.evans@thyme>  (phillip.allen@enron.com)   \n",
       "...                                                                  ...   \n",
       "<26807948.1075842029936.JavaMail.evans@thyme>  (john.zufferli@enron.com)   \n",
       "<25835861.1075842029959.JavaMail.evans@thyme>  (john.zufferli@enron.com)   \n",
       "<28979867.1075842029988.JavaMail.evans@thyme>  (john.zufferli@enron.com)   \n",
       "<22052556.1075842030013.JavaMail.evans@thyme>  (john.zufferli@enron.com)   \n",
       "<28618979.1075842030037.JavaMail.evans@thyme>  (john.zufferli@enron.com)   \n",
       "\n",
       "                                                                         To  \\\n",
       "Message-ID                                                                    \n",
       "<18782981.1075855378110.JavaMail.evans@thyme>        (tim.belden@enron.com)   \n",
       "<15464986.1075855378456.JavaMail.evans@thyme>     (john.lavorato@enron.com)   \n",
       "<24216240.1075855687451.JavaMail.evans@thyme>      (leah.arsdall@enron.com)   \n",
       "<13505866.1075863688222.JavaMail.evans@thyme>       (randall.gay@enron.com)   \n",
       "<30922949.1075863688243.JavaMail.evans@thyme>        (greg.piper@enron.com)   \n",
       "...                                                                     ...   \n",
       "<26807948.1075842029936.JavaMail.evans@thyme>        (kori.loibl@enron.com)   \n",
       "<25835861.1075842029959.JavaMail.evans@thyme>     (john.lavorato@enron.com)   \n",
       "<28979867.1075842029988.JavaMail.evans@thyme>       (dawn.doucet@enron.com)   \n",
       "<22052556.1075842030013.JavaMail.evans@thyme>      (jeanie.slone@enron.com)   \n",
       "<28618979.1075842030037.JavaMail.evans@thyme>  (livia_zufferli@monitor.com)   \n",
       "\n",
       "                                                                    Date  \\\n",
       "Message-ID                                                                 \n",
       "<18782981.1075855378110.JavaMail.evans@thyme>  2001-05-14 16:39:00-07:00   \n",
       "<15464986.1075855378456.JavaMail.evans@thyme>  2001-05-04 13:51:00-07:00   \n",
       "<24216240.1075855687451.JavaMail.evans@thyme>  2000-10-18 03:00:00-07:00   \n",
       "<13505866.1075863688222.JavaMail.evans@thyme>  2000-10-23 06:13:00-07:00   \n",
       "<30922949.1075863688243.JavaMail.evans@thyme>  2000-08-31 05:07:00-07:00   \n",
       "...                                                                  ...   \n",
       "<26807948.1075842029936.JavaMail.evans@thyme>  2001-11-28 13:30:11-08:00   \n",
       "<25835861.1075842029959.JavaMail.evans@thyme>  2001-11-28 12:47:48-08:00   \n",
       "<28979867.1075842029988.JavaMail.evans@thyme>  2001-11-28 07:20:00-08:00   \n",
       "<22052556.1075842030013.JavaMail.evans@thyme>  2001-11-27 11:52:45-08:00   \n",
       "<28618979.1075842030037.JavaMail.evans@thyme>  2001-11-26 10:48:43-08:00   \n",
       "\n",
       "                                                                 Subject  \\\n",
       "Message-ID                                                                 \n",
       "<18782981.1075855378110.JavaMail.evans@thyme>                              \n",
       "<15464986.1075855378456.JavaMail.evans@thyme>                        Re:   \n",
       "<24216240.1075855687451.JavaMail.evans@thyme>                   Re: test   \n",
       "<13505866.1075863688222.JavaMail.evans@thyme>                              \n",
       "<30922949.1075863688243.JavaMail.evans@thyme>                  Re: Hello   \n",
       "...                                                                  ...   \n",
       "<26807948.1075842029936.JavaMail.evans@thyme>   Trade with John Lavorato   \n",
       "<25835861.1075842029959.JavaMail.evans@thyme>                 Gas Hedges   \n",
       "<28979867.1075842029988.JavaMail.evans@thyme>           RE: CONFIDENTIAL   \n",
       "<22052556.1075842030013.JavaMail.evans@thyme>  Calgary Analyst/Associate   \n",
       "<28618979.1075842030037.JavaMail.evans@thyme>           RE: ali's essays   \n",
       "\n",
       "                                                                                         content  \\\n",
       "Message-ID                                                                                         \n",
       "<18782981.1075855378110.JavaMail.evans@thyme>                          Here is our forecast\\n\\n    \n",
       "<15464986.1075855378456.JavaMail.evans@thyme>  Traveling to have a business meeting takes the...   \n",
       "<24216240.1075855687451.JavaMail.evans@thyme>                     test successful.  way to go!!!   \n",
       "<13505866.1075863688222.JavaMail.evans@thyme>  Randy,\\n\\n Can you send me a schedule of the s...   \n",
       "<30922949.1075863688243.JavaMail.evans@thyme>                Let's shoot for Tuesday at 11:45.     \n",
       "...                                                                                          ...   \n",
       "<26807948.1075842029936.JavaMail.evans@thyme>  This is a trade with OIL-SPEC-HEDGE-NG (John L...   \n",
       "<25835861.1075842029959.JavaMail.evans@thyme>  Some of my position is with the Alberta Term b...   \n",
       "<28979867.1075842029988.JavaMail.evans@thyme>  2\\n\\n -----Original Message-----\\nFrom: \\tDouc...   \n",
       "<22052556.1075842030013.JavaMail.evans@thyme>  Analyst\\t\\t\\t\\t\\tRank\\n\\nStephane Brodeur\\t\\t\\...   \n",
       "<28618979.1075842030037.JavaMail.evans@thyme>  i think the YMCA has a class that is for peopl...   \n",
       "\n",
       "                                                                                   clean_content  \\\n",
       "Message-ID                                                                                         \n",
       "<18782981.1075855378110.JavaMail.evans@thyme>                                           forecast   \n",
       "<15464986.1075855378456.JavaMail.evans@thyme>  traveling business meeting takes fun trip espe...   \n",
       "<24216240.1075855687451.JavaMail.evans@thyme>                             test successful way go   \n",
       "<13505866.1075863688222.JavaMail.evans@thyme>  randy send schedule salary level everyone sche...   \n",
       "<30922949.1075863688243.JavaMail.evans@thyme>                                  let shoot tuesday   \n",
       "...                                                                                          ...   \n",
       "<26807948.1075842029936.JavaMail.evans@thyme>  trade oil spec hedge ng john lavorato book joh...   \n",
       "<25835861.1075842029959.JavaMail.evans@thyme>  position alberta term book send positions dire...   \n",
       "<28979867.1075842029988.JavaMail.evans@thyme>  original message doucet dawn sent wednesday no...   \n",
       "<22052556.1075842030013.JavaMail.evans@thyme>  analyst rank stephane brodeur chad clark ian c...   \n",
       "<28618979.1075842030037.JavaMail.evans@thyme>  think ymca class people recovering heart attac...   \n",
       "\n",
       "                                               topic  \n",
       "Message-ID                                            \n",
       "<18782981.1075855378110.JavaMail.evans@thyme>      6  \n",
       "<15464986.1075855378456.JavaMail.evans@thyme>      7  \n",
       "<24216240.1075855687451.JavaMail.evans@thyme>      2  \n",
       "<13505866.1075863688222.JavaMail.evans@thyme>      9  \n",
       "<30922949.1075863688243.JavaMail.evans@thyme>      0  \n",
       "...                                              ...  \n",
       "<26807948.1075842029936.JavaMail.evans@thyme>      3  \n",
       "<25835861.1075842029959.JavaMail.evans@thyme>      3  \n",
       "<28979867.1075842029988.JavaMail.evans@thyme>      9  \n",
       "<22052556.1075842030013.JavaMail.evans@thyme>      5  \n",
       "<28618979.1075842030037.JavaMail.evans@thyme>      0  \n",
       "\n",
       "[354600 rows x 7 columns]"
      ]
     },
     "execution_count": 24,
     "metadata": {},
     "output_type": "execute_result"
    }
   ],
   "source": [
    "analysis_df"
   ]
  },
  {
   "cell_type": "code",
   "execution_count": 25,
   "metadata": {},
   "outputs": [],
   "source": [
    "from sklearn.metrics import confusion_matrix \n",
    "from sklearn.model_selection import train_test_split "
   ]
  },
  {
   "cell_type": "code",
   "execution_count": 38,
   "metadata": {},
   "outputs": [],
   "source": [
    "#test train split\n",
    "X = analysis_df['clean_content']\n",
    "y = analysis_df['topic']\n",
    "X_train, X_test, y_train, y_test = train_test_split(X, y, random_state = 0) "
   ]
  },
  {
   "cell_type": "code",
   "execution_count": 39,
   "metadata": {},
   "outputs": [
    {
     "data": {
      "text/plain": [
       "Pipeline(memory=None,\n",
       "         steps=[('tfidf',\n",
       "                 TfidfVectorizer(analyzer='word', binary=False,\n",
       "                                 decode_error='strict',\n",
       "                                 dtype=<class 'numpy.float64'>,\n",
       "                                 encoding='utf-8', input='content',\n",
       "                                 lowercase=True, max_df=1.0, max_features=None,\n",
       "                                 min_df=1, ngram_range=(1, 1), norm='l2',\n",
       "                                 preprocessor=None, smooth_idf=True,\n",
       "                                 stop_words=None, strip_accents=None,\n",
       "                                 sublinear_tf=False,\n",
       "                                 token_pattern='(?u)\\\\b\\\\w\\\\w+\\\\b',\n",
       "                                 tokenizer=None, use_idf=True,\n",
       "                                 vocabulary=None)),\n",
       "                ('clf',\n",
       "                 LinearSVC(C=1.0, class_weight=None, dual=True,\n",
       "                           fit_intercept=True, intercept_scaling=1,\n",
       "                           loss='squared_hinge', max_iter=1000,\n",
       "                           multi_class='ovr', penalty='l2', random_state=None,\n",
       "                           tol=0.0001, verbose=0))],\n",
       "         verbose=False)"
      ]
     },
     "execution_count": 39,
     "metadata": {},
     "output_type": "execute_result"
    }
   ],
   "source": [
    "#creating a pipeline iwth tfidf vectorization and fitting the model with linearSVC\n",
    "from sklearn.pipeline import Pipeline\n",
    "from sklearn.feature_extraction.text import TfidfVectorizer\n",
    "from sklearn.svm import LinearSVC\n",
    "\n",
    "text_clf = Pipeline([('tfidf', TfidfVectorizer()),\n",
    "                     ('clf', LinearSVC()),\n",
    "])\n",
    "\n",
    "# Feed the training data through the pipeline\n",
    "text_clf.fit(X_train, y_train)  "
   ]
  },
  {
   "cell_type": "code",
   "execution_count": 40,
   "metadata": {},
   "outputs": [],
   "source": [
    "predictions = text_clf.predict(X_test)"
   ]
  },
  {
   "cell_type": "code",
   "execution_count": 41,
   "metadata": {},
   "outputs": [
    {
     "name": "stdout",
     "output_type": "stream",
     "text": [
      "[[11452     0    16   166    34    16    30   175     4   171]\n",
      " [   10  3107     0     8     1     5     1    11     0     0]\n",
      " [   34     2  2700    20    22     0    30    43     1    55]\n",
      " [  118     8     9 23576   108    41    15    87     0   274]\n",
      " [   45     1    19   234  7629    23    14    34     0   148]\n",
      " [   55     1     4   110    28  5716     1     8     2    84]\n",
      " [   53     0    13    15    22     0  5258    50     8    37]\n",
      " [  206     6    19   100    43     9    50 10192     0   209]\n",
      " [   18     0     1     3     0     0    10     5   782     4]\n",
      " [  139     5    24   287   112    41     8   170     0 14245]]\n"
     ]
    }
   ],
   "source": [
    "from sklearn import metrics\n",
    "print(metrics.confusion_matrix(y_test,predictions))"
   ]
  },
  {
   "cell_type": "code",
   "execution_count": 42,
   "metadata": {},
   "outputs": [
    {
     "name": "stdout",
     "output_type": "stream",
     "text": [
      "              precision    recall  f1-score   support\n",
      "\n",
      "           0       0.94      0.95      0.95     12064\n",
      "           1       0.99      0.99      0.99      3143\n",
      "           2       0.96      0.93      0.95      2907\n",
      "           3       0.96      0.97      0.97     24236\n",
      "           4       0.95      0.94      0.95      8147\n",
      "           5       0.98      0.95      0.96      6009\n",
      "           6       0.97      0.96      0.97      5456\n",
      "           7       0.95      0.94      0.94     10834\n",
      "           8       0.98      0.95      0.97       823\n",
      "           9       0.94      0.95      0.94     15031\n",
      "\n",
      "    accuracy                           0.95     88650\n",
      "   macro avg       0.96      0.95      0.96     88650\n",
      "weighted avg       0.96      0.95      0.95     88650\n",
      "\n"
     ]
    }
   ],
   "source": [
    "print(metrics.classification_report(y_test,predictions))"
   ]
  },
  {
   "cell_type": "code",
   "execution_count": 72,
   "metadata": {},
   "outputs": [
    {
     "data": {
      "text/plain": [
       "array([7], dtype=int64)"
      ]
     },
     "execution_count": 72,
     "metadata": {},
     "output_type": "execute_result"
    }
   ],
   "source": [
    "text_clf.predict(['traveling business meeting takes fun trip especially prepare presentation would suggest holding business plan meetings take trip without formal business meetings would even try get honest opinions whether trip even desired necessary far business meetings think would productive try stimulate discussions across different groups working often presenter speaks others quiet waiting turn meetings might better held round table discussion format suggestion go austin play golf rent ski boat jet ski flying somewhere takes much time'])\n"
   ]
  },
  {
   "cell_type": "code",
   "execution_count": 65,
   "metadata": {},
   "outputs": [
    {
     "data": {
      "text/plain": [
       "array([0, 0, 6, ..., 5, 5, 0], dtype=int64)"
      ]
     },
     "execution_count": 65,
     "metadata": {},
     "output_type": "execute_result"
    }
   ],
   "source": [
    "predictions"
   ]
  },
  {
   "cell_type": "code",
   "execution_count": 66,
   "metadata": {},
   "outputs": [
    {
     "data": {
      "text/plain": [
       "Message-ID\n",
       "<820700.1075841079887.JavaMail.evans@thyme>      0\n",
       "<1699899.1075845538701.JavaMail.evans@thyme>     0\n",
       "<3090354.1075855644561.JavaMail.evans@thyme>     6\n",
       "<7649497.1075846023838.JavaMail.evans@thyme>     3\n",
       "<1960974.1075840992826.JavaMail.evans@thyme>     6\n",
       "                                                ..\n",
       "<25087959.1075847956226.JavaMail.evans@thyme>    5\n",
       "<22448944.1075857807801.JavaMail.evans@thyme>    7\n",
       "<21661806.1075855524561.JavaMail.evans@thyme>    5\n",
       "<9721255.1075860338490.JavaMail.evans@thyme>     5\n",
       "<14395300.1075860423371.JavaMail.evans@thyme>    0\n",
       "Name: topic, Length: 88650, dtype: int64"
      ]
     },
     "execution_count": 66,
     "metadata": {},
     "output_type": "execute_result"
    }
   ],
   "source": [
    "y_test"
   ]
  },
  {
   "cell_type": "code",
   "execution_count": 71,
   "metadata": {},
   "outputs": [
    {
     "data": {
      "text/plain": [
       "'traveling business meeting takes fun trip especially prepare presentation would suggest holding business plan meetings take trip without formal business meetings would even try get honest opinions whether trip even desired necessary far business meetings think would productive try stimulate discussions across different groups working often presenter speaks others quiet waiting turn meetings might better held round table discussion format suggestion go austin play golf rent ski boat jet ski flying somewhere takes much time'"
      ]
     },
     "execution_count": 71,
     "metadata": {},
     "output_type": "execute_result"
    }
   ],
   "source": [
    "analysis_df['clean_content'][1]"
   ]
  },
  {
   "cell_type": "code",
   "execution_count": null,
   "metadata": {},
   "outputs": [],
   "source": [
    "from sklearn.pipeline import Pipeline\n",
    "from sklearn.feature_extraction.text import TfidfVectorizer\n",
    "from sklearn.svm import LinearSVC\n",
    "from sklearn.naive_bayes import MultinomialNB\n",
    "\n",
    "text_clf = Pipeline([('tfidf', TfidfVectorizer()),\n",
    "                     ('clf', MultinomialNB())])\n",
    "\n",
    "# Feed the training data through the pipeline\n",
    "text_clf.fit(X_train, y_train)  "
   ]
  },
  {
   "cell_type": "code",
   "execution_count": 77,
   "metadata": {},
   "outputs": [],
   "source": [
    "predictions = text_clf.predict(X_test) \n",
    "  \n",
    "# creating a confusion matrix \n",
    "cm = confusion_matrix(y_test, dtree_predictions) \n"
   ]
  },
  {
   "cell_type": "code",
   "execution_count": 78,
   "metadata": {},
   "outputs": [
    {
     "data": {
      "text/plain": [
       "array([[    0,     0,     0, 12009,     0,     0,     0,     0,     0,\n",
       "           55],\n",
       "       [    0,  2029,     0,  1109,     0,     0,     0,     0,     0,\n",
       "            5],\n",
       "       [    0,     0,     0,  2897,     0,     0,     0,     0,     0,\n",
       "           10],\n",
       "       [    0,     0,     0, 24065,     0,     0,     0,     0,     0,\n",
       "          171],\n",
       "       [    0,     2,     0,  8105,     0,     0,     0,     0,     0,\n",
       "           40],\n",
       "       [    0,   234,     0,  5413,     0,     0,     0,     0,     0,\n",
       "          362],\n",
       "       [    0,     0,     0,  5449,     0,     0,     0,     0,     0,\n",
       "            7],\n",
       "       [    0,     0,     0, 10780,     0,     0,     0,     0,     0,\n",
       "           54],\n",
       "       [    0,     0,     0,   823,     0,     0,     0,     0,     0,\n",
       "            0],\n",
       "       [    0,     0,     0, 13833,     0,     0,     0,     0,     0,\n",
       "         1198]], dtype=int64)"
      ]
     },
     "execution_count": 78,
     "metadata": {},
     "output_type": "execute_result"
    }
   ],
   "source": [
    "cm"
   ]
  },
  {
   "cell_type": "code",
   "execution_count": 79,
   "metadata": {},
   "outputs": [
    {
     "name": "stdout",
     "output_type": "stream",
     "text": [
      "              precision    recall  f1-score   support\n",
      "\n",
      "           0       0.00      0.00      0.00     12064\n",
      "           1       0.90      0.65      0.75      3143\n",
      "           2       0.00      0.00      0.00      2907\n",
      "           3       0.28      0.99      0.44     24236\n",
      "           4       0.00      0.00      0.00      8147\n",
      "           5       0.00      0.00      0.00      6009\n",
      "           6       0.00      0.00      0.00      5456\n",
      "           7       0.00      0.00      0.00     10834\n",
      "           8       0.00      0.00      0.00       823\n",
      "           9       0.63      0.08      0.14     15031\n",
      "\n",
      "    accuracy                           0.31     88650\n",
      "   macro avg       0.18      0.17      0.13     88650\n",
      "weighted avg       0.22      0.31      0.17     88650\n",
      "\n"
     ]
    },
    {
     "name": "stderr",
     "output_type": "stream",
     "text": [
      "c:\\users\\athre\\appdata\\local\\programs\\python\\python38\\lib\\site-packages\\sklearn\\metrics\\_classification.py:1272: UndefinedMetricWarning: Precision and F-score are ill-defined and being set to 0.0 in labels with no predicted samples. Use `zero_division` parameter to control this behavior.\n",
      "  _warn_prf(average, modifier, msg_start, len(result))\n"
     ]
    }
   ],
   "source": [
    "print(metrics.classification_report(y_test,dtree_predictions))"
   ]
  },
  {
   "cell_type": "code",
   "execution_count": null,
   "metadata": {},
   "outputs": [],
   "source": []
  }
 ],
 "metadata": {
  "kernelspec": {
   "display_name": "Python 3",
   "language": "python",
   "name": "python3"
  },
  "language_info": {
   "codemirror_mode": {
    "name": "ipython",
    "version": 3
   },
   "file_extension": ".py",
   "mimetype": "text/x-python",
   "name": "python",
   "nbconvert_exporter": "python",
   "pygments_lexer": "ipython3",
   "version": "3.8.1"
  }
 },
 "nbformat": 4,
 "nbformat_minor": 4
}
